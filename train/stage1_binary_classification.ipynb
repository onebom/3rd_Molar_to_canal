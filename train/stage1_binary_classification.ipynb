{
 "cells": [
  {
   "cell_type": "code",
   "execution_count": 1,
   "metadata": {},
   "outputs": [],
   "source": [
    "from random import seed as random_seed\n",
    "random_seed(50)\n",
    "from numpy.random import seed as np_random_seed\n",
    "np_random_seed(50)\n",
    "from tensorflow import set_random_seed as tf_set_random_seed\n",
    "tf_set_random_seed(50)"
   ]
  },
  {
   "cell_type": "code",
   "execution_count": 51,
   "metadata": {},
   "outputs": [],
   "source": [
    "import os, glob\n",
    "import cv2\n",
    "import matplotlib.pyplot as plt\n",
    "import numpy as np\n",
    "import pandas as pd\n",
    "import random\n",
    "from skimage.transform import resize, rotate\n",
    "\n",
    "from keras.models import *\n",
    "from keras.layers import *\n",
    "from keras.optimizers import *\n",
    "from sklearn.model_selection import train_test_split\n",
    "from keras.utils import to_categorical\n",
    "from sklearn.metrics import confusion_matrix"
   ]
  },
  {
   "cell_type": "code",
   "execution_count": 57,
   "metadata": {},
   "outputs": [],
   "source": [
    "def plot_learning_curve(history, loo_idx=None, save=False):\n",
    "    acc = history.history['acc']\n",
    "    val_acc = history.history['val_acc']\n",
    "    loss = history.history['loss']\n",
    "    val_loss = history.history['val_loss']\n",
    "    epochs = range(1, len(acc) + 1)\n",
    "\n",
    "    plt.figure(figsize=(15, 5))\n",
    "\n",
    "    plt.subplot(121)\n",
    "    if loo_idx is not None:\n",
    "        plt.title('Training and validation accuracy'.format(loo_idx + 1))\n",
    "    else:\n",
    "        plt.title('Training and validation accuracy')\n",
    "    plt.plot(epochs, acc, '-', label='Training acc')\n",
    "    if loo_idx is not None:\n",
    "        plt.plot(epochs, val_acc, '.', label='Validation acc') # .은 point \n",
    "    else:\n",
    "        plt.plot(epochs, val_acc, '-', label='Validation acc')\n",
    "    plt.legend()\n",
    "\n",
    "    plt.subplot(122)\n",
    "    if loo_idx is not None:\n",
    "        plt.title('Training and validation loss'.format(loo_idx + 1))\n",
    "    else:\n",
    "        plt.title('Training and validation loss')\n",
    "    plt.plot(epochs, loss, '-', label='Training loss')\n",
    "    plt.plot(epochs, val_loss, '-', label='Validation loss')\n",
    "    plt.legend()\n",
    "    \n",
    "    if save:\n",
    "        figure_path = os.path.join(save_path, 'figures')\n",
    "        if not os.path.exists(figure_path):\n",
    "            os.makedirs(figure_path)\n",
    "        \n",
    "        if loo_idx is not None:\n",
    "            plt.savefig(os.path.join(figure_path,\n",
    "                                     'training_validation_learning_curve_loocv_{}.png'.format(loo_idx+1)))\n",
    "        else:\n",
    "            plt.savefig(os.path.join(figure_path, 'training_validation_learning_curve.png'))\n",
    "\n",
    "    plt.show()"
   ]
  },
  {
   "cell_type": "code",
   "execution_count": 7,
   "metadata": {},
   "outputs": [],
   "source": [
    "def load_data(path,labels):\n",
    "    images=[]\n",
    "    cnt=0\n",
    "    label = []\n",
    "    for i,x in enumerate(labels):\n",
    "        c_path = path+x+'/'\n",
    "        files = glob.glob(c_path+'*')\n",
    "        files.sort()\n",
    "        # Read all images\n",
    "        for y in files:\n",
    "            tmp = cv2.imread(y)\n",
    "            tmp = cv2.resize(tmp,(256,256),interpolation=cv2.INTER_CUBIC)\n",
    "            tmp = cv2.cvtColor(tmp,cv2.COLOR_BGR2GRAY)\n",
    "            images.append(tmp)\n",
    "            if i==0:\n",
    "                label.append(0)\n",
    "            else:\n",
    "                label.append(1)\n",
    "            \n",
    "            cnt+=1\n",
    "            if cnt%100==0:\n",
    "                print(str(cnt)+' set finish!!')\n",
    "    print('All of dataset are loaded!')    \n",
    "    print('==========================================')\n",
    "    \n",
    "    images = np.asarray(np.reshape(images,(len(images),256,256,1)))\n",
    "    \n",
    "    return images, label"
   ]
  },
  {
   "cell_type": "code",
   "execution_count": 23,
   "metadata": {},
   "outputs": [],
   "source": [
    "def rotate_img(labeled,count,min_rads,max_rads):\n",
    "    ratated_label = []\n",
    "    icnt=1\n",
    "    \n",
    "    for j in range(count):\n",
    "        random_rads = [random.uniform(min_rads, max_rads) for zz in range(len(labeled))]\n",
    "        for i in range(len(labeled)):\n",
    "            labeled_rot = rotate(labeled[i], random_rads[i])\n",
    "            ratated_label.append(labeled_rot)\n",
    "            \n",
    "            if icnt%100==0:\n",
    "                print(str(icnt)+' set rotated!')\n",
    "            icnt+=1\n",
    "        \n",
    "    print('Done!==================================================')\n",
    "    ratated_label = np.asarray(ratated_label)\n",
    "\n",
    "    return ratated_label"
   ]
  },
  {
   "cell_type": "code",
   "execution_count": 5,
   "metadata": {},
   "outputs": [
    {
     "name": "stdout",
     "output_type": "stream",
     "text": [
      "All of dataset are loaded!\n",
      "==========================================\n"
     ]
    }
   ],
   "source": [
    "label_list = ['class0']#\n",
    "#X_area = (0,0,1400,1400)\n",
    "X_0,y_0 = load_data('/data1/3rdDental/Labeled_Cropped_Data/PNG/',label_list)\n"
   ]
  },
  {
   "cell_type": "code",
   "execution_count": 8,
   "metadata": {},
   "outputs": [
    {
     "name": "stdout",
     "output_type": "stream",
     "text": [
      "100 set finish!!\n",
      "200 set finish!!\n",
      "300 set finish!!\n",
      "400 set finish!!\n",
      "All of dataset are loaded!\n",
      "==========================================\n"
     ]
    }
   ],
   "source": [
    "label_list = ['class1','class2','class3']\n",
    "X_1,y_1 = load_data('/data1/3rdDental/Labeled_Cropped_Data/PNG/',label_list)"
   ]
  },
  {
   "cell_type": "code",
   "execution_count": 19,
   "metadata": {},
   "outputs": [
    {
     "data": {
      "text/plain": [
       "(404, 256, 256, 1)"
      ]
     },
     "execution_count": 19,
     "metadata": {},
     "output_type": "execute_result"
    }
   ],
   "source": [
    "X_1.shape"
   ]
  },
  {
   "cell_type": "code",
   "execution_count": 10,
   "metadata": {},
   "outputs": [],
   "source": [
    "y_0 = np.array(y_0)\n",
    "y_1 = np.array(y_1)"
   ]
  },
  {
   "cell_type": "code",
   "execution_count": 30,
   "metadata": {},
   "outputs": [],
   "source": [
    "X0_train, X0_test, y0_train, y0_test = train_test_split(X_0, y_0, test_size=0.07,random_state=1,shuffle=True)\n",
    "X0_train, X0_val, y0_train, y0_val = train_test_split(X0_train, y0_train, test_size=0.07,random_state=1,shuffle=True)"
   ]
  },
  {
   "cell_type": "code",
   "execution_count": 31,
   "metadata": {},
   "outputs": [],
   "source": [
    "X1_train, X1_test, y1_train, y1_test = train_test_split(X_1, y_1, test_size=0.07,random_state=1,shuffle=True)\n",
    "X1_train, X1_val, y1_train, y1_val = train_test_split(X1_train, y1_train, test_size=0.07,random_state=1,shuffle=True)"
   ]
  },
  {
   "cell_type": "code",
   "execution_count": 32,
   "metadata": {},
   "outputs": [
    {
     "data": {
      "text/plain": [
       "(348, 256, 256, 1)"
      ]
     },
     "execution_count": 32,
     "metadata": {},
     "output_type": "execute_result"
    }
   ],
   "source": [
    "X1_train.shape"
   ]
  },
  {
   "cell_type": "code",
   "execution_count": 33,
   "metadata": {},
   "outputs": [
    {
     "data": {
      "text/plain": [
       "(43, 256, 256, 1)"
      ]
     },
     "execution_count": 33,
     "metadata": {},
     "output_type": "execute_result"
    }
   ],
   "source": [
    "X0_train.shape"
   ]
  },
  {
   "cell_type": "code",
   "execution_count": 34,
   "metadata": {},
   "outputs": [
    {
     "name": "stdout",
     "output_type": "stream",
     "text": [
      "100 set rotated!\n",
      "200 set rotated!\n",
      "300 set rotated!\n",
      "400 set rotated!\n",
      "500 set rotated!\n",
      "600 set rotated!\n",
      "700 set rotated!\n",
      "800 set rotated!\n",
      "Done!==================================================\n",
      "100 set rotated!\n",
      "200 set rotated!\n",
      "300 set rotated!\n",
      "400 set rotated!\n",
      "500 set rotated!\n",
      "600 set rotated!\n",
      "Done!==================================================\n"
     ]
    }
   ],
   "source": [
    "X0_train = rotate_img(X0_train,20,-20,20)\n",
    "X1_train = rotate_img(X1_train,2,-20,20)"
   ]
  },
  {
   "cell_type": "code",
   "execution_count": 37,
   "metadata": {},
   "outputs": [],
   "source": [
    "y0_train = np.repeat(y0_train,20)\n",
    "y1_train = np.repeat(y1_train,2)"
   ]
  },
  {
   "cell_type": "code",
   "execution_count": 40,
   "metadata": {},
   "outputs": [],
   "source": [
    "X_train = np.concatenate((X0_train,X1_train))\n",
    "y_train = np.concatenate((y0_train,y1_train))\n",
    "X_val = np.concatenate((X0_val,X1_val))\n",
    "y_val = np.concatenate((y0_val,y1_val))\n",
    "X_test = np.concatenate((X0_test,X1_test))\n",
    "y_test = np.concatenate((y0_test,y1_test))"
   ]
  },
  {
   "cell_type": "code",
   "execution_count": 42,
   "metadata": {},
   "outputs": [
    {
     "name": "stdout",
     "output_type": "stream",
     "text": [
      "Training set :  (1556, 256, 256, 1)\n",
      "Training label set :  (1556,)\n",
      "Validation set :  (31, 256, 256, 1)\n",
      "Test set :  (33, 256, 256, 1)\n"
     ]
    }
   ],
   "source": [
    "print('Training set : ',X_train.shape)\n",
    "print('Training label set : ',y_train.shape)\n",
    "print('Validation set : ',X_val.shape)\n",
    "print('Test set : ',X_test.shape)"
   ]
  },
  {
   "cell_type": "code",
   "execution_count": 43,
   "metadata": {},
   "outputs": [],
   "source": [
    "y_train = to_categorical(y_train)\n",
    "y_val = to_categorical(y_val)\n",
    "y_test = to_categorical(y_test)"
   ]
  },
  {
   "cell_type": "code",
   "execution_count": 44,
   "metadata": {},
   "outputs": [
    {
     "name": "stdout",
     "output_type": "stream",
     "text": [
      "Training set shape :    X (1556, 256, 256, 1) | y (1556, 2)\n",
      "Validation set shape :  X (31, 256, 256, 1)  | y (31, 2)\n",
      "Test set shape :        X (33, 256, 256, 1)  | y (33, 2)\n"
     ]
    }
   ],
   "source": [
    "print('Training set shape :   ', 'X', X_train.shape, '|', 'y', y_train.shape)\n",
    "print('Validation set shape : ', 'X', X_val.shape, ' |', 'y', y_val.shape)\n",
    "print('Test set shape :       ', 'X', X_test.shape, ' |', 'y', y_test.shape)"
   ]
  },
  {
   "cell_type": "code",
   "execution_count": 45,
   "metadata": {},
   "outputs": [],
   "source": [
    "def CNN(input_size=(256,256,1)):\n",
    "    inputs = Input(input_size)\n",
    "    \n",
    "    conv1 = Conv2D(32, 5, activation='relu', padding = 'same', kernel_initializer = 'he_normal')(inputs)\n",
    "    poo11 = MaxPooling2D(pool_size=(3, 3))(conv1)\n",
    "    conv2 = Conv2D(64, 5, activation='relu', padding = 'same', kernel_initializer = 'he_normal')(poo11)\n",
    "    poo12 = MaxPooling2D(pool_size=(3, 3))(conv2)\n",
    "    conv3 = Conv2D(128, 5, activation='relu', padding = 'same', kernel_initializer = 'he_normal')(poo12)\n",
    "    poo13 = MaxPooling2D(pool_size=(3, 3))(conv3)\n",
    "    conv4 = Conv2D(256, 5, activation='relu', padding = 'same', kernel_initializer = 'he_normal')(poo13)\n",
    "    poo14 = MaxPooling2D(pool_size=(3, 3))(conv4)\n",
    "    \n",
    "    flatten = Flatten()(poo14)\n",
    "    \n",
    "    dense1 = Dense(512, activation='relu')(flatten)\n",
    "    dense2 = Dense(128, activation='relu')(dense1)\n",
    "    dense3 = Dense(64, activation='relu')(dense2)\n",
    "    dense4 = Dense(16, activation='relu')(dense3)\n",
    "    \n",
    "    outputs = Dense(2, activation='sigmoid')(dense4)\n",
    "    \n",
    "    \n",
    "    model = Model(input=inputs, output=outputs)\n",
    "    model.compile(optimizer='rmsprop', loss='binary_crossentropy', metrics=['accuracy'])\n",
    "    \n",
    "    return model"
   ]
  },
  {
   "cell_type": "code",
   "execution_count": 46,
   "metadata": {},
   "outputs": [
    {
     "name": "stdout",
     "output_type": "stream",
     "text": [
      "_________________________________________________________________\n",
      "Layer (type)                 Output Shape              Param #   \n",
      "=================================================================\n",
      "input_1 (InputLayer)         (None, 256, 256, 1)       0         \n",
      "_________________________________________________________________\n",
      "conv2d_1 (Conv2D)            (None, 256, 256, 32)      832       \n",
      "_________________________________________________________________\n",
      "max_pooling2d_1 (MaxPooling2 (None, 85, 85, 32)        0         \n",
      "_________________________________________________________________\n",
      "conv2d_2 (Conv2D)            (None, 85, 85, 64)        51264     \n",
      "_________________________________________________________________\n",
      "max_pooling2d_2 (MaxPooling2 (None, 28, 28, 64)        0         \n",
      "_________________________________________________________________\n",
      "conv2d_3 (Conv2D)            (None, 28, 28, 128)       204928    \n",
      "_________________________________________________________________\n",
      "max_pooling2d_3 (MaxPooling2 (None, 9, 9, 128)         0         \n",
      "_________________________________________________________________\n",
      "conv2d_4 (Conv2D)            (None, 9, 9, 256)         819456    \n",
      "_________________________________________________________________\n",
      "max_pooling2d_4 (MaxPooling2 (None, 3, 3, 256)         0         \n",
      "_________________________________________________________________\n",
      "flatten_1 (Flatten)          (None, 2304)              0         \n",
      "_________________________________________________________________\n",
      "dense_1 (Dense)              (None, 512)               1180160   \n",
      "_________________________________________________________________\n",
      "dense_2 (Dense)              (None, 128)               65664     \n",
      "_________________________________________________________________\n",
      "dense_3 (Dense)              (None, 64)                8256      \n",
      "_________________________________________________________________\n",
      "dense_4 (Dense)              (None, 16)                1040      \n",
      "_________________________________________________________________\n",
      "dense_5 (Dense)              (None, 2)                 34        \n",
      "=================================================================\n",
      "Total params: 2,331,634\n",
      "Trainable params: 2,331,634\n",
      "Non-trainable params: 0\n",
      "_________________________________________________________________\n"
     ]
    },
    {
     "name": "stderr",
     "output_type": "stream",
     "text": [
      "/usr/local/lib/python3.5/dist-packages/ipykernel_launcher.py:23: UserWarning: Update your `Model` call to the Keras 2 API: `Model(outputs=Tensor(\"de..., inputs=Tensor(\"in...)`\n"
     ]
    }
   ],
   "source": [
    "CNN_model = CNN()\n",
    "CNN_model.summary()"
   ]
  },
  {
   "cell_type": "code",
   "execution_count": 47,
   "metadata": {},
   "outputs": [
    {
     "name": "stderr",
     "output_type": "stream",
     "text": [
      "/usr/local/lib/python3.5/dist-packages/ipykernel_launcher.py:23: UserWarning: Update your `Model` call to the Keras 2 API: `Model(outputs=Tensor(\"de..., inputs=Tensor(\"in...)`\n"
     ]
    },
    {
     "name": "stdout",
     "output_type": "stream",
     "text": [
      "Train on 1556 samples, validate on 31 samples\n",
      "Epoch 1/50\n",
      "1556/1556 [==============================] - 5s 3ms/step - loss: 0.7426 - acc: 0.5376 - val_loss: 12.0306 - val_acc: 0.1290\n",
      "Epoch 2/50\n",
      "1556/1556 [==============================] - 3s 2ms/step - loss: 0.6853 - acc: 0.5823 - val_loss: 1.5226 - val_acc: 0.9032\n",
      "Epoch 3/50\n",
      "1556/1556 [==============================] - 3s 2ms/step - loss: 0.4631 - acc: 0.8011 - val_loss: 0.8134 - val_acc: 0.9355\n",
      "Epoch 4/50\n",
      "1556/1556 [==============================] - 3s 2ms/step - loss: 0.2607 - acc: 0.9087 - val_loss: 1.5513 - val_acc: 0.9032\n",
      "Epoch 5/50\n",
      "1556/1556 [==============================] - 3s 2ms/step - loss: 0.1928 - acc: 0.9364 - val_loss: 0.5171 - val_acc: 0.9677\n",
      "Epoch 6/50\n",
      "1556/1556 [==============================] - 3s 2ms/step - loss: 0.1827 - acc: 0.9557 - val_loss: 3.6197 - val_acc: 0.7742\n",
      "Epoch 7/50\n",
      "1556/1556 [==============================] - 3s 2ms/step - loss: 0.0945 - acc: 0.9682 - val_loss: 0.5171 - val_acc: 0.9677\n",
      "Epoch 8/50\n",
      "1556/1556 [==============================] - 3s 2ms/step - loss: 0.1438 - acc: 0.9749 - val_loss: 0.5171 - val_acc: 0.9677\n",
      "Epoch 9/50\n",
      "1556/1556 [==============================] - 3s 2ms/step - loss: 0.0235 - acc: 0.9945 - val_loss: 0.5171 - val_acc: 0.9677\n",
      "Epoch 10/50\n",
      "1556/1556 [==============================] - 3s 2ms/step - loss: 0.0545 - acc: 0.9894 - val_loss: 1.0960e-07 - val_acc: 1.0000\n",
      "Epoch 11/50\n",
      "1556/1556 [==============================] - 3s 2ms/step - loss: 0.1073 - acc: 0.9881 - val_loss: 0.5171 - val_acc: 0.9677\n",
      "Epoch 12/50\n",
      "1556/1556 [==============================] - 3s 2ms/step - loss: 0.0779 - acc: 0.9929 - val_loss: 0.5171 - val_acc: 0.9677\n",
      "Epoch 13/50\n",
      "1556/1556 [==============================] - 3s 2ms/step - loss: 0.0801 - acc: 0.9884 - val_loss: 0.5171 - val_acc: 0.9677\n",
      "Epoch 14/50\n",
      "1556/1556 [==============================] - 3s 2ms/step - loss: 0.0479 - acc: 0.9942 - val_loss: 0.5171 - val_acc: 0.9677\n",
      "Epoch 15/50\n",
      "1556/1556 [==============================] - 3s 2ms/step - loss: 0.0533 - acc: 0.9952 - val_loss: 0.5171 - val_acc: 0.9677\n",
      "Epoch 16/50\n",
      "1556/1556 [==============================] - 3s 2ms/step - loss: 0.0157 - acc: 0.9955 - val_loss: 0.5171 - val_acc: 0.9677\n",
      "Epoch 17/50\n",
      "1556/1556 [==============================] - 3s 2ms/step - loss: 0.0803 - acc: 0.9855 - val_loss: 0.5171 - val_acc: 0.9677\n",
      "Epoch 18/50\n",
      "1556/1556 [==============================] - 3s 2ms/step - loss: 0.0269 - acc: 0.9945 - val_loss: 0.5171 - val_acc: 0.9677\n",
      "Epoch 19/50\n",
      "1556/1556 [==============================] - 3s 2ms/step - loss: 4.9237e-07 - acc: 1.0000 - val_loss: 0.5171 - val_acc: 0.9677\n",
      "Epoch 20/50\n",
      "1556/1556 [==============================] - 3s 2ms/step - loss: 1.1021e-07 - acc: 1.0000 - val_loss: 0.5171 - val_acc: 0.9677\n",
      "Epoch 21/50\n",
      "1556/1556 [==============================] - 3s 2ms/step - loss: 1.0961e-07 - acc: 1.0000 - val_loss: 0.5171 - val_acc: 0.9677\n",
      "Epoch 22/50\n",
      "1556/1556 [==============================] - 3s 2ms/step - loss: 1.0960e-07 - acc: 1.0000 - val_loss: 0.5171 - val_acc: 0.9677\n",
      "Epoch 23/50\n",
      "1556/1556 [==============================] - 3s 2ms/step - loss: 1.0960e-07 - acc: 1.0000 - val_loss: 0.5171 - val_acc: 0.9677\n",
      "Epoch 24/50\n",
      "1556/1556 [==============================] - 3s 2ms/step - loss: 1.0960e-07 - acc: 1.0000 - val_loss: 0.5171 - val_acc: 0.9677\n",
      "Epoch 25/50\n",
      "1556/1556 [==============================] - 3s 2ms/step - loss: 1.0960e-07 - acc: 1.0000 - val_loss: 0.5171 - val_acc: 0.9677\n",
      "Epoch 26/50\n",
      "1556/1556 [==============================] - 3s 2ms/step - loss: 1.0960e-07 - acc: 1.0000 - val_loss: 0.5171 - val_acc: 0.9677\n",
      "Epoch 27/50\n",
      "1556/1556 [==============================] - 3s 2ms/step - loss: 1.0960e-07 - acc: 1.0000 - val_loss: 0.5171 - val_acc: 0.9677\n",
      "Epoch 28/50\n",
      "1556/1556 [==============================] - 3s 2ms/step - loss: 1.0960e-07 - acc: 1.0000 - val_loss: 0.5171 - val_acc: 0.9677\n",
      "Epoch 29/50\n",
      "1556/1556 [==============================] - 3s 2ms/step - loss: 1.0960e-07 - acc: 1.0000 - val_loss: 0.5171 - val_acc: 0.9677\n",
      "Epoch 30/50\n",
      "1556/1556 [==============================] - 3s 2ms/step - loss: 1.0960e-07 - acc: 1.0000 - val_loss: 0.5171 - val_acc: 0.9677\n",
      "Epoch 31/50\n",
      "1556/1556 [==============================] - 3s 2ms/step - loss: 1.0960e-07 - acc: 1.0000 - val_loss: 0.5171 - val_acc: 0.9677\n",
      "Epoch 32/50\n",
      "1556/1556 [==============================] - 3s 2ms/step - loss: 1.0960e-07 - acc: 1.0000 - val_loss: 0.5171 - val_acc: 0.9677\n",
      "Epoch 33/50\n",
      "1556/1556 [==============================] - 3s 2ms/step - loss: 1.0960e-07 - acc: 1.0000 - val_loss: 0.5171 - val_acc: 0.9677\n",
      "Epoch 34/50\n",
      "1556/1556 [==============================] - 3s 2ms/step - loss: 1.0960e-07 - acc: 1.0000 - val_loss: 0.5171 - val_acc: 0.9677\n",
      "Epoch 35/50\n",
      "1556/1556 [==============================] - 3s 2ms/step - loss: 1.0960e-07 - acc: 1.0000 - val_loss: 0.5171 - val_acc: 0.9677\n",
      "Epoch 36/50\n",
      "1556/1556 [==============================] - 3s 2ms/step - loss: 1.0960e-07 - acc: 1.0000 - val_loss: 0.5171 - val_acc: 0.9677\n",
      "Epoch 37/50\n",
      "1556/1556 [==============================] - 3s 2ms/step - loss: 1.0960e-07 - acc: 1.0000 - val_loss: 0.5171 - val_acc: 0.9677\n",
      "Epoch 38/50\n",
      "1556/1556 [==============================] - 3s 2ms/step - loss: 1.0960e-07 - acc: 1.0000 - val_loss: 0.5171 - val_acc: 0.9677\n",
      "Epoch 39/50\n",
      "1556/1556 [==============================] - 3s 2ms/step - loss: 1.0960e-07 - acc: 1.0000 - val_loss: 0.5171 - val_acc: 0.9677\n",
      "Epoch 40/50\n",
      "1556/1556 [==============================] - 3s 2ms/step - loss: 1.0960e-07 - acc: 1.0000 - val_loss: 0.5171 - val_acc: 0.9677\n",
      "Epoch 41/50\n",
      "1556/1556 [==============================] - 3s 2ms/step - loss: 1.0960e-07 - acc: 1.0000 - val_loss: 0.5171 - val_acc: 0.9677\n",
      "Epoch 42/50\n",
      "1556/1556 [==============================] - 3s 2ms/step - loss: 1.0960e-07 - acc: 1.0000 - val_loss: 0.5171 - val_acc: 0.9677\n",
      "Epoch 43/50\n",
      "1556/1556 [==============================] - 3s 2ms/step - loss: 1.0960e-07 - acc: 1.0000 - val_loss: 0.5171 - val_acc: 0.9677\n",
      "Epoch 44/50\n",
      "1556/1556 [==============================] - 3s 2ms/step - loss: 1.0960e-07 - acc: 1.0000 - val_loss: 0.5171 - val_acc: 0.9677\n",
      "Epoch 45/50\n",
      "1556/1556 [==============================] - 3s 2ms/step - loss: 1.0960e-07 - acc: 1.0000 - val_loss: 0.5171 - val_acc: 0.9677\n",
      "Epoch 46/50\n",
      "1556/1556 [==============================] - 3s 2ms/step - loss: 1.0960e-07 - acc: 1.0000 - val_loss: 0.5171 - val_acc: 0.9677\n",
      "Epoch 47/50\n",
      "1556/1556 [==============================] - 3s 2ms/step - loss: 1.0960e-07 - acc: 1.0000 - val_loss: 0.5171 - val_acc: 0.9677\n",
      "Epoch 48/50\n",
      "1556/1556 [==============================] - 3s 2ms/step - loss: 1.0960e-07 - acc: 1.0000 - val_loss: 0.5171 - val_acc: 0.9677\n",
      "Epoch 49/50\n",
      "1556/1556 [==============================] - 3s 2ms/step - loss: 1.0960e-07 - acc: 1.0000 - val_loss: 0.5171 - val_acc: 0.9677\n",
      "Epoch 50/50\n",
      "1556/1556 [==============================] - 3s 2ms/step - loss: 1.0960e-07 - acc: 1.0000 - val_loss: 0.5171 - val_acc: 0.9677\n"
     ]
    }
   ],
   "source": [
    "num_batch = 16\n",
    "num_epoch = 50\n",
    "\n",
    "CNN_model = CNN()\n",
    "CNN_histories = list()\n",
    "\n",
    "CNN_history = CNN_model.fit(X_train, y_train,\n",
    "                            validation_data=(X_val,y_val),\n",
    "                            batch_size=num_batch,\n",
    "                            epochs=num_epoch,\n",
    "                            shuffle=True)\n",
    "\n",
    "CNN_histories.append(CNN_history)"
   ]
  },
  {
   "cell_type": "code",
   "execution_count": 58,
   "metadata": {},
   "outputs": [
    {
     "data": {
      "image/png": "[encoded data removed]",
      "text/plain": [
       "<Figure size 1080x360 with 2 Axes>"
      ]
     },
     "metadata": {},
     "output_type": "display_data"
    }
   ],
   "source": [
    "for history_idx, history in enumerate(CNN_histories):\n",
    "    plot_learning_curve(history, loo_idx=history_idx, save=False)"
   ]
  },
  {
   "cell_type": "code",
   "execution_count": 50,
   "metadata": {},
   "outputs": [],
   "source": [
    "pred = CNN_model.predict(X_test)"
   ]
  },
  {
   "cell_type": "code",
   "execution_count": 67,
   "metadata": {},
   "outputs": [
    {
     "data": {
      "text/plain": [
       "array([[ 3,  1],\n",
       "       [ 1, 28]])"
      ]
     },
     "execution_count": 67,
     "metadata": {},
     "output_type": "execute_result"
    }
   ],
   "source": [
    "y_label = np.argmax(y_test,1)\n",
    "y_fit = np.argmax(pred,1)\n",
    "\n",
    "confusion_mat = confusion_matrix(y_label, y_fit)\n",
    "confusion_mat"
   ]
  },
  {
   "cell_type": "code",
   "execution_count": 71,
   "metadata": {},
   "outputs": [
    {
     "data": {
      "text/plain": [
       "array([0, 0, 0, 0, 1, 1, 1, 1, 1, 1, 1, 1, 1, 1, 1, 1, 1, 1, 1, 1, 1, 1, 1,\n",
       "       1, 1, 1, 1, 1, 1, 1, 1, 1, 1])"
      ]
     },
     "execution_count": 71,
     "metadata": {},
     "output_type": "execute_result"
    }
   ],
   "source": [
    "y_label"
   ]
  },
  {
   "cell_type": "code",
   "execution_count": 72,
   "metadata": {},
   "outputs": [
    {
     "data": {
      "text/plain": [
       "array([0, 0, 1, 0, 1, 1, 1, 1, 1, 1, 1, 1, 1, 1, 1, 1, 1, 1, 0, 1, 1, 1, 1,\n",
       "       1, 1, 1, 1, 1, 1, 1, 1, 1, 1])"
      ]
     },
     "execution_count": 72,
     "metadata": {},
     "output_type": "execute_result"
    }
   ],
   "source": [
    "y_fit"
   ]
  },
  {
   "cell_type": "code",
   "execution_count": 74,
   "metadata": {},
   "outputs": [],
   "source": [
    "from sklearn.metrics import accuracy_score, log_loss\n",
    "from sklearn.metrics import precision_recall_fscore_support as score"
   ]
  },
  {
   "cell_type": "code",
   "execution_count": 75,
   "metadata": {},
   "outputs": [
    {
     "name": "stdout",
     "output_type": "stream",
     "text": [
      "accuracy: 0.9393939393939394\n",
      "precision: [ 0.75        0.96551724]\n",
      "recall: [ 0.75        0.96551724]\n",
      "fscore: [ 0.75        0.96551724]\n",
      "support: [ 4 29]\n"
     ]
    }
   ],
   "source": [
    "accuracy = accuracy_score(y_label,y_fit)\n",
    "precision, recall, fscore, support = score(y_label, y_fit)\n",
    "\n",
    "print('accuracy: {}'.format(accuracy))\n",
    "print('precision: {}'.format(precision))\n",
    "print('recall: {}'.format(recall))\n",
    "print('fscore: {}'.format(fscore))\n",
    "print('support: {}'.format(support))"
   ]
  },
  {
   "cell_type": "code",
   "execution_count": null,
   "metadata": {},
   "outputs": [],
   "source": []
  }
 ],
 "metadata": {
  "kernelspec": {
   "display_name": "Python 3",
   "language": "python",
   "name": "python3"
  },
  "language_info": {
   "codemirror_mode": {
    "name": "ipython",
    "version": 3
   },
   "file_extension": ".py",
   "mimetype": "text/x-python",
   "name": "python",
   "nbconvert_exporter": "python",
   "pygments_lexer": "ipython3",
   "version": "3.5.2"
  }
 },
 "nbformat": 4,
 "nbformat_minor": 4
}
